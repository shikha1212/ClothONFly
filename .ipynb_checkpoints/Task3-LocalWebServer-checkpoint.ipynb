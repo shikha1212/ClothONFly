{
 "cells": [
  {
   "cell_type": "markdown",
   "metadata": {},
   "source": [
    "# Task3: Running a Local Apache Webserver\n",
    "## Step1:\n",
    "We will install run and test a local webserver using the `*AMP` suite, which package Apache, MySQL and PHP, into a single installation.\n",
    "- Windows: [WAMP](http://www.wampserver.com/en/)\n",
    "- Linux: [LAMP](https://bitnami.com/stack/lamp/installer)\n",
    "- Mac: [MAMP](https://www.mamp.info/en/)\n",
    "\n",
    "If you want to work with something a little more interesting, install [XAMPP](https://www.apachefriends.org/index.html) which works on all 3 OSs. This has nice modules for popular content management systems like, Wordpress, Joomla, Drupal etc. \n",
    "\n",
    "Follow the link to install the software suite on your respective OS."
   ]
  },
  {
   "cell_type": "markdown",
   "metadata": {},
   "source": [
    "## Step2: \n",
    "Create a simple website that implements a \"guestbook\" feature. A start page that looks like this:\n",
    "<img src=\"GuestBook.png\" alt=\"GuestBook\" width=\"400\" height=200/>\n"
   ]
  },
  {
   "cell_type": "code",
   "execution_count": null,
   "metadata": {},
   "outputs": [],
   "source": []
  }
 ],
 "metadata": {
  "kernelspec": {
   "display_name": "Python 3",
   "language": "python",
   "name": "python3"
  },
  "language_info": {
   "codemirror_mode": {
    "name": "ipython",
    "version": 3
   },
   "file_extension": ".py",
   "mimetype": "text/x-python",
   "name": "python",
   "nbconvert_exporter": "python",
   "pygments_lexer": "ipython3",
   "version": "3.7.3"
  }
 },
 "nbformat": 4,
 "nbformat_minor": 2
}
