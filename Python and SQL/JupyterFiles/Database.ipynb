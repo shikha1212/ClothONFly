{
 "cells": [
  {
   "cell_type": "code",
   "execution_count": 5,
   "metadata": {},
   "outputs": [],
   "source": [
    "import sqlite3"
   ]
  },
  {
   "cell_type": "code",
   "execution_count": 8,
   "metadata": {},
   "outputs": [],
   "source": [
    "class Database():\n",
    "    dbname = \"ClothONFly.db\"\n",
    "    \n",
    "\n",
    "    @staticmethod\n",
    "    def initialize():\n",
    "        try:\n",
    "            connect = sqlite3.connect(Database.dbname)\n",
    "            return connect\n",
    "        except Error as e:\n",
    "            print(e)\n",
    "            return None\n",
    "\n",
    "    @staticmethod\n",
    "    def close_connection():\n",
    "        db = Database.initialize()\n",
    "        db.close()\n",
    "\n",
    "#     def create_tables(self):\n",
    "#         connect = Database.initialize()\n",
    "#         db = connect.cursor()\n",
    "#         db.execute(\n",
    "#             '''CREATE TABLE Users(User_ID INTEGER PRIMARY KEY AutoIncrement,\n",
    "#                                 User_Name Text NOT NULL UNIQUE,\n",
    "#                                 Password Text,\n",
    "#                                 User_Role Text Not Null check(User_Type = \"Admin\" or User_Type = \"Buyer\" or User_Type = \"Seller\"),\n",
    "#                                 First_Name TEXT NOT NULL,\n",
    "#                                 Last_Name TEXT NOT NULL, \n",
    "#                                 Email TEXT Not NUll, \n",
    "#                                 Address Text Not NUll, \n",
    "#                                 Phone_Num INTEGER Not Null) ''')\n",
    "\n",
    "#         db.execute('''\n",
    "#             CREATE TABLE Inventory_Items(Item_ID INTEGER PRIMARY KEY AutoIncrement,\n",
    "#                                         Brand_Name TEXT NOT NULL,\n",
    "#                                         Type TEXT NOT NULL,\n",
    "#                                         Size TEXT NOT NULL,\n",
    "#                                         Gender TEXT NOT NULL check(Gender = \"Male\" or Gender = \"Female\"),\n",
    "#                                         Original_Price REAL NOT NULL,\n",
    "#                                         Rental_Price REAL NOT NULL,\n",
    "#                                         Available_From DATE,\n",
    "#                                         Owner_ID INTEGER,\n",
    "#                                         Location TEXT NOT NULL,\n",
    "#                                         Cloth_Image BLOB NOT NULL,\n",
    "#                                         Deposit REAL NOT NULL,\n",
    "#                                         Foreign Key(Owner_ID) References Users(User_ID))\n",
    "#         ''')\n",
    "\n",
    "#         db.execute(\n",
    "#             '''CREATE TABLE Orders (Order_ID INTEGER PRIMARY KEY AutoIncrement, \n",
    "#                                     User_ID INTEGER NOT NULL, \n",
    "#                                     Item_ID INTEGER Not Null,\n",
    "#                                     Delivery_Date Date Not Null, \n",
    "#                                     Return_Date Date Not Null, \n",
    "#                                     Shipping_Address Text Not Null,\n",
    "#                                     Order_Status Text Not Null check(Order_Status = \"Order Received(Shipment Pending)\" or Order_Status = \"Order Shipped\" or Order_Status = \"Return Initiated\" or Order_Status = \"Return Received(Deposit Refunded)\" or Order_Status = \"Return Not Received(Deposit Withheld)\"),\n",
    "#                                     Shipping_Date Date, \n",
    "#                                     FOREIGN KEY(User_ID) REFERENCES Users(User_ID), \n",
    "#                                     FOREIGN KEY(Item_ID) References Inventory_Items(Item_ID))\n",
    "#             ''')\n",
    "\n",
    "#         connect.commit()"
   ]
  },
  {
   "cell_type": "code",
   "execution_count": 9,
   "metadata": {},
   "outputs": [
    {
     "data": {
      "text/plain": [
       "<sqlite3.Connection at 0x10eb129d0>"
      ]
     },
     "execution_count": 9,
     "metadata": {},
     "output_type": "execute_result"
    }
   ],
   "source": [
    "db = Database()\n",
    "db.initialize()"
   ]
  },
  {
   "cell_type": "code",
   "execution_count": null,
   "metadata": {},
   "outputs": [],
   "source": []
  }
 ],
 "metadata": {
  "kernelspec": {
   "display_name": "Python 3",
   "language": "python",
   "name": "python3"
  },
  "language_info": {
   "codemirror_mode": {
    "name": "ipython",
    "version": 3
   },
   "file_extension": ".py",
   "mimetype": "text/x-python",
   "name": "python",
   "nbconvert_exporter": "python",
   "pygments_lexer": "ipython3",
   "version": "3.7.2"
  }
 },
 "nbformat": 4,
 "nbformat_minor": 2
}
