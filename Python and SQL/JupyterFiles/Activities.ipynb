{
 "cells": [
  {
   "cell_type": "code",
   "execution_count": 6,
   "metadata": {},
   "outputs": [],
   "source": [
    "import Ipynb_importer\n",
    "import Database"
   ]
  },
  {
   "cell_type": "code",
   "execution_count": 7,
   "metadata": {},
   "outputs": [],
   "source": [
    "class Activity:\n",
    "\n",
    "    @staticmethod\n",
    "    def register(User_Name, Password, User_Type, First_Name, Last_Name, Email, Address, Phone_Num):\n",
    "# Description goes here        \n",
    "# \n",
    "        db = Database.Database.initialize()\n",
    "        cursor = db.cursor()\n",
    "        if User_Type in ('Admin', 'Seller'):\n",
    "            print(\"This is an {} type user\".format(User_Type))\n",
    "            admin_response = input(\"Enter Y to add the user:\")\n",
    "            if admin_response.lower().startswith('y'):\n",
    "                cursor.execute('''\n",
    "                                Insert into Users (User_Name,Password,User_Type,First_Name,Last_Name,Email,Address,Phone_Num) values(?,?,?,?,?,?,?,?)''',\n",
    "                                (User_Name, Password, User_Type, First_Name, Last_Name, Email, Address, Phone_Num))\n",
    "                db.commit()\n",
    "            else:\n",
    "                None\n",
    "        else:\n",
    "            cursor.execute(\n",
    "                '''Insert into Users(User_Name,Password,User_Type,First_Name,Last_Name,Email,Address,Phone_Num) values(?,?,?,?,?,?,?,?)''',\n",
    "                (User_Name, Password, User_Type, First_Name, Last_Name, Email, Address, Phone_Num))\n",
    "            db.commit()\n",
    "        Database.Database.close_connection()\n",
    "\n",
    "    @staticmethod\n",
    "    def check_duplicate(User_Name):\n",
    "        db = Database.Database.initialize()\n",
    "        cursor = db.cursor()\n",
    "        cur = cursor.execute('''SELECT * FROM Users where User_Name = ? ''',(str(User_Name),))\n",
    "        if len(cur.fetchall()) != 0:\n",
    "            print(\"This user name already exists in the database. Please use a different one for registration\")\n",
    "            return False\n",
    "        else:\n",
    "            return True\n",
    "\n",
    "    @staticmethod\n",
    "    def return_role(User_Name):\n",
    "        connect = Database.Database.initialize()\n",
    "        cursor = connect.cursor()\n",
    "        cur = cursor.execute('''SELECT User_Type FROM Users where User_Name = ? ''', (str(User_Name),))\n",
    "\n",
    "        for row in cur.fetchall():\n",
    "            return row[0]\n",
    "\n",
    "    @staticmethod\n",
    "    def login(User_Name, Password):\n",
    "        connect = Database.Database.initialize()\n",
    "        cursor = connect.cursor()\n",
    "        cur = cursor.execute('''SELECT * FROM Users where User_Name = ? AND Password = ?''',\n",
    "                             (str(User_Name), str(Password)))\n",
    "        if len(cur.fetchall()) != 0:\n",
    "            print(\"Authentication Successful\")\n",
    "            return True\n",
    "        else:\n",
    "            print(\"Authentication Failed\")\n",
    "            return False"
   ]
  },
  {
   "cell_type": "code",
   "execution_count": 13,
   "metadata": {},
   "outputs": [
    {
     "name": "stdout",
     "output_type": "stream",
     "text": [
      "Authentication Failed\n"
     ]
    },
    {
     "data": {
      "text/plain": [
       "False"
      ]
     },
     "execution_count": 13,
     "metadata": {},
     "output_type": "execute_result"
    }
   ],
   "source": [
    "Activity.login('Shikha123','1233')"
   ]
  },
  {
   "cell_type": "code",
   "execution_count": null,
   "metadata": {},
   "outputs": [],
   "source": []
  },
  {
   "cell_type": "code",
   "execution_count": null,
   "metadata": {},
   "outputs": [],
   "source": []
  }
 ],
 "metadata": {
  "kernelspec": {
   "display_name": "Python 3",
   "language": "python",
   "name": "python3"
  },
  "language_info": {
   "codemirror_mode": {
    "name": "ipython",
    "version": 3
   },
   "file_extension": ".py",
   "mimetype": "text/x-python",
   "name": "python",
   "nbconvert_exporter": "python",
   "pygments_lexer": "ipython3",
   "version": "3.7.2"
  }
 },
 "nbformat": 4,
 "nbformat_minor": 2
}
