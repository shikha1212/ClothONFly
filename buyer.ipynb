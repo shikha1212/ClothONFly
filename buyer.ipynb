{
 "cells": [
  {
   "cell_type": "code",
   "execution_count": 6,
   "metadata": {},
   "outputs": [],
   "source": [
    "# Role Buyer for APAD Project -- Cloth On Fly\n",
    "\n",
    "# Author: Tianyi (Kelly) Zhang\n",
    "#         Shikha Singh\n",
    "\n",
    "# Creation Date: 07/21/2019\n",
    "\n",
    "# Major: MSITM"
   ]
  },
  {
   "cell_type": "code",
   "execution_count": 7,
   "metadata": {},
   "outputs": [],
   "source": [
    "import Ipynb_importer\n",
    "import sqlite3\n",
    "from datetime import date\n",
    "from datetime import timedelta\n",
    "import Database\n",
    "import utils"
   ]
  },
  {
   "cell_type": "code",
   "execution_count": 10,
   "metadata": {},
   "outputs": [],
   "source": [
    "class Buyer:\n",
    "\n",
    "    def __init__(self, user_name, password, first_name, last_name, email, address, phone_num, id_num):\n",
    "        self.user_name = user_name\n",
    "        self.password = password\n",
    "        self.first_name = first_name\n",
    "        self.last_name = last_name\n",
    "        self.email = email\n",
    "        self.address = address\n",
    "        self.phone_num = phone_num\n",
    "        self.id_num = id_num\n",
    "        self.shopping_cart = dict()\n",
    "\n",
    "    def add_item_to_shopping_cart(self, item_id_num, rent_days) -> bool:\n",
    "        print(\"Adding item (item_id_num:  \" + item_id_num + \") to shopping cart\")\n",
    "        self.shopping_cart[item_id_num] = rent_days\n",
    "        return True\n",
    "\n",
    "    def remove_item_to_shopping_cart(self, item_id_num) -> bool:\n",
    "        print(\"Removing item (item_id_num:  \" + item_id_num + \") to shopping cart\")\n",
    "        self.shopping_cart.remove(item_id_num)\n",
    "        return True\n",
    "\n",
    "    def rent_item(self, item_id_num) -> bool:\n",
    "        print(\"Renting item from the shopping cart\")\n",
    "        order_id = utils.generate_id_for_role()\n",
    "        shipping_date = date.today()\n",
    "        delivery_date = shipping_date + timedelta(days=2)\n",
    "        for item_id_num, rent_days in self.shopping_cart.items():\n",
    "            # add item into Orders table\n",
    "            cursor.execute('''INSERT INTO Orders(Order_ID, User_ID, Item_ID, Delivery_Date, Return_Date, Shipping_Address, Order_Status, Shipping_Date)\n",
    "                          VALUES(?,?,?,?,?,?,?,?)''',(order_id, self.id_num, item_id_num, delivery_date, delivery_date + timedelta(days = rent_days), self.address, utils.ORDER_RECEIVED, shipping_date))\n",
    "            # update Available_From in Inventory_Items table \n",
    "            cursor.execute('''UPDATE Inventory_Items\n",
    "                          WHERE Available_From = ? ''', (shipping_date + timedelta(delivery_date) + timedelta(days = rent_days))\n",
    "            return True\n",
    "\n",
    "    def return_item(self, item_id_num) -> bool:\n",
    "        print(\"Returning item (item_id_num:  \" + item_id_num + \")\")\n",
    "        # update Order_Status in Orders table\n",
    "        db.execute('''UPDATE Orders\n",
    "                      WHERE Order_Status = ? ''', (utlis.ORDER_RETURN_INIT))\n",
    "        return True"
   ]
  }
 ],
 "metadata": {
  "kernelspec": {
   "display_name": "Python 3",
   "language": "python",
   "name": "python3"
  },
  "language_info": {
   "codemirror_mode": {
    "name": "ipython",
    "version": 3
   },
   "file_extension": ".py",
   "mimetype": "text/x-python",
   "name": "python",
   "nbconvert_exporter": "python",
   "pygments_lexer": "ipython3",
   "version": "3.7.3"
  }
 },
 "nbformat": 4,
 "nbformat_minor": 2
}
