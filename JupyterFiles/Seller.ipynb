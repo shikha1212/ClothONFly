{
 "cells": [
  {
   "cell_type": "code",
   "execution_count": 1,
   "metadata": {},
   "outputs": [
    {
     "data": {
      "text/plain": [
       "'\\nRole Seller for APAD Project 1\\n\\nAuthor: Tianyi (Kelly) Zhang\\n        Shikha Singh\\n\\nCreation Date: 07/21/2019\\n\\nMajor: MSITM\\n'"
      ]
     },
     "execution_count": 1,
     "metadata": {},
     "output_type": "execute_result"
    }
   ],
   "source": [
    "# Role Seller for APAD Project 1\n",
    "\n",
    "# Author: Tianyi (Kelly) Zhang\n",
    "#         Shikha Singh\n",
    "\n",
    "# Creation Date: 07/21/2019\n",
    "\n",
    "# Major: MSITM"
   ]
  },
  {
   "cell_type": "code",
   "execution_count": 11,
   "metadata": {},
   "outputs": [],
   "source": [
    "import Ipynb_importer\n",
    "import sqlite3\n",
    "import Database\n",
    "from datetime import date, datetime\n",
    "import csv\n",
    "import glob"
   ]
  },
  {
   "cell_type": "code",
   "execution_count": 33,
   "metadata": {},
   "outputs": [],
   "source": [
    "class Seller:\n",
    "    image_dir = \"Images/\"\n",
    "    export_dir = \"Exports/\"\n",
    "    import_dir = \"ImportFiles/\"\n",
    "\n",
    "    @staticmethod\n",
    "    def add_item(Brand_Name,Type,Size,Gender,Original_Price,Rental_Price,Owner_ID,Location,Cloth_Image,Deposit,Available_From=date.today()) :\n",
    "# \n",
    "#         Description goes here\n",
    "\n",
    "# \n",
    "        db = Database.Database.initialize()\n",
    "        cursor = db.cursor()\n",
    "\n",
    "        for image in glob.glob(Seller.image_dir+'/*'):\n",
    "            if (str(image).replace(Seller.image_dir,'')) == Cloth_Image:\n",
    "                print(str(image))\n",
    "                with open(image, 'rb') as file:\n",
    "                    blobData = file.read()\n",
    "\n",
    "        cursor.execute(\n",
    "            '''Insert into Inventory_Items(Brand_Name,Type,Size,Gender,Original_Price,Rental_Price,Owner_ID,Location,Cloth_Image,Deposit,Available_From) values(?,?,?,?,?,?,?,?,?,?,?)''',\n",
    "            (Brand_Name,Type,Size,Gender,Original_Price,Rental_Price,Owner_ID,Location,blobData,Deposit,Available_From))\n",
    "        db.commit()\n",
    "\n",
    "        Database.Database.close_connection()\n",
    "\n",
    "    @staticmethod\n",
    "    def remove_item(Item_ID):\n",
    "#         '''\n",
    "#         Description goes here\n",
    "#         '''\n",
    "        db = Database.Database.initialize()\n",
    "        cursor = db.cursor()\n",
    "        cursor.execute('''Delete from Inventory_Items where Item_ID == ?''',(str(Item_ID)))\n",
    "        db.commit()\n",
    "        Database.Database.close_connection()\n",
    "\n",
    "    @staticmethod\n",
    "    def update_item(Item_ID,Brand_Name,Type,Size,Gender,Original_Price,Rental_Price,Owner_ID,Location,Cloth_Image,Deposit,Available_From):\n",
    "#         '''\n",
    "#         Description goes here\n",
    "#         '''\n",
    "        db = Database.Database.initialize()\n",
    "        cursor = db.cursor()\n",
    "\n",
    "        for image in glob.glob(Seller.image_dir + '/*'):\n",
    "            if (str(image).replace(Seller.image_dir, '')) == Cloth_Image:\n",
    "                with open(image, 'rb') as file:\n",
    "                    blobData = file.read()\n",
    "        cursor.execute('''Update Inventory_Items \n",
    "        set Brand_Name= ?,\n",
    "        Type = ? ,\n",
    "        Size =?,\n",
    "        Gender = ?,\n",
    "        Original_Price =?,\n",
    "        Rental_Price =?,\n",
    "        Owner_ID=?,\n",
    "        Location=?,\n",
    "        Cloth_Image=?,\n",
    "        Deposit=?,\n",
    "        Available_From=? where Item_ID = ?''',(Brand_Name,Type,Size,Gender,Original_Price,Rental_Price,Owner_ID,Location,blobData,Deposit,Available_From,Item_ID))\n",
    "        db.commit()\n",
    "        Database.Database.close_connection()\n",
    "\n",
    "    @staticmethod\n",
    "    def ship_item(Order_ID):\n",
    "        db = Database.Database.initialize()\n",
    "        cursor = db.cursor()\n",
    "        cursor.execute('''Update Orders \n",
    "                set Order_Status = 'Order Shipped',\n",
    "                    Shipping_Date = ?\n",
    "                where Order_ID = ?''', (date.today(),Order_ID))\n",
    "        db.commit()\n",
    "        Database.Database.close_connection()\n",
    "\n",
    "    @staticmethod\n",
    "    def refund_deposit(Order_ID):\n",
    "        db = Database.Database.initialize()\n",
    "        cursor = db.cursor()\n",
    "        cursor.execute('''Update Orders \n",
    "                    set Order_Status = 'Return Received(Deposit Refunded)'\n",
    "                    where Order_ID = ? and Return_Date >= ? and Order_Status = \"Return Initiated\" ''', (str(Order_ID),date.today()))\n",
    "        db.commit()\n",
    "        Database.Database.close_connection()\n",
    "\n",
    "    @staticmethod\n",
    "    def withhold_deposit(Order_ID):\n",
    "        db = Database.Database.initialize()\n",
    "        cursor = db.cursor()\n",
    "        cursor.execute('''Update Orders \n",
    "                        set Order_Status = 'Return Not Received(Deposit Withheld)'\n",
    "                        where Order_ID = ? and Return_Date < ? and Order_Status != \"Return Initiated\" ''', (str(Order_ID),date.today()))\n",
    "        db.commit()\n",
    "        Database.Database.close_connection()\n",
    "\n",
    "    @staticmethod\n",
    "    def process_bulk_refunds():\n",
    "        return None\n",
    "\n",
    "    @staticmethod\n",
    "    def bulk_item_upload(filename):\n",
    "        for files in glob.glob(Seller.import_dir + '/*'):\n",
    "            if (str(files).replace(Seller.import_dir, '')) == filename:\n",
    "                with open(Seller.import_dir + '/'+filename, 'r') as inputfile:\n",
    "                    items = csv.DictReader(inputfile)\n",
    "\n",
    "                    for item in items:\n",
    "                        if item['AvailableFrom'] == '':\n",
    "                            item['AvailableFrom'] = date.today()\n",
    "                        Seller().add_item(item['Brand'],item['Type'],item['Size'],item['Gender'],item['OriginalPrice'],item['RentalPrice'],item['OwnerID'],item['Location'],item['ClothImage'],item['Deposit'],item['AvailableFrom'])\n",
    "\n",
    "    @staticmethod\n",
    "    def all_orders():\n",
    "\n",
    "        db = Database.Database.initialize()\n",
    "        cursor = db.cursor()\n",
    "        cursor.execute('''select o.Order_ID,o.Order_Status As \"Order Status\", o.Delivery_Date As \"Delivery Date\",o.Return_Date As \"Return Date\",o.Shipping_Address AS \"Shipping Address\",\n",
    "                                u.First_Name AS \"Buyer's First Name\",u.Last_Name AS \"Buyer's LastName\",u.Email AS \"Buyer's Email\",u.Phone_Num AS \"Buyer's Contact\",\n",
    "                                i.Brand_Name AS \"Product's Brand\",i.Type AS \"Product Type\", i.Size AS \"Product Size\",i.Gender AS \"Gender\",\n",
    "                                usr.First_Name as \"Seller's first Name\", usr.Last_Name as \"Seller's Last Name\", usr.Email As \"Seller's Email\",usr.Phone_Num AS \"Seller's Contact\"\n",
    "                                from Orders o join Users u on u.User_ID=o.User_ID join Inventory_Items i on o.Item_ID = i.Item_ID join Users usr on i.Owner_ID =usr.User_ID ''')\n",
    "\n",
    "        with open(Seller.export_dir+'/'+\"Orders_export_\"+ str(date.today()) + \".csv\", \"w\", newline='') as file:\n",
    "            csv_writer = csv.writer(file)\n",
    "            csv_writer.writerow([i[0] for i in cursor.description])  # write headers\n",
    "            csv_writer.writerows(cursor)\n"
   ]
  },
  {
   "cell_type": "code",
   "execution_count": 34,
   "metadata": {},
   "outputs": [
    {
     "name": "stdout",
     "output_type": "stream",
     "text": [
      "Images/Shirt2.jpg\n"
     ]
    }
   ],
   "source": [
    "Seller.bulk_item_upload('ItemInventory.csv')"
   ]
  },
  {
   "cell_type": "code",
   "execution_count": null,
   "metadata": {},
   "outputs": [],
   "source": []
  },
  {
   "cell_type": "code",
   "execution_count": null,
   "metadata": {},
   "outputs": [],
   "source": []
  }
 ],
 "metadata": {
  "kernelspec": {
   "display_name": "Python 3",
   "language": "python",
   "name": "python3"
  },
  "language_info": {
   "codemirror_mode": {
    "name": "ipython",
    "version": 3
   },
   "file_extension": ".py",
   "mimetype": "text/x-python",
   "name": "python",
   "nbconvert_exporter": "python",
   "pygments_lexer": "ipython3",
   "version": "3.7.2"
  }
 },
 "nbformat": 4,
 "nbformat_minor": 2
}
