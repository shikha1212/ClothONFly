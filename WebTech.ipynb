{
 "cells": [
  {
   "cell_type": "markdown",
   "metadata": {},
   "source": [
    "# Web Technologies\n",
    "by Ramesh Yerraballi\n",
    "\n",
    "The World Wide Web (WWW) was conceived Tim Berners-Lee as an information system to disseminate documents and other resources (including services) by refering them by Uniform Resource Locator (URLs). The documents were originally in a markup language called Hyper Text Markup Language (HTML) which allowed interlinking other documents. The documents were served by a Hyper Text Transfer Protocol (HTTP) server and the software to request and render the content is called a Web Browser.\n",
    "\n",
    "Intially HTML was used to serve static pages but as the language evolved, dynamic aspects like CSS (Cascading Style Sheets) and scripting (Javascript) were added. This collective set of tools is referred to as DHTML (Dynamic HTML). "
   ]
  },
  {
   "cell_type": "markdown",
   "metadata": {},
   "source": [
    "## HTML\n",
    "HTML uses markup tags to instruct a browser on how to render the information in a page. Here is an example"
   ]
  },
  {
   "cell_type": "markdown",
   "metadata": {},
   "source": [
    "__Raw HTML__:\n",
    "\n",
    "```<html>\t\n",
    "  <!-- This is a comment -->\t\n",
    "   <head>\t\n",
    "     <title> Sample HTML Page</title>\t\n",
    "      <!--\tThe\ttitle -->\t\n",
    "    </head>\t\n",
    "    <body\tbgcolor=green>\t\n",
    "        This is just ordinary text.\t\n",
    "        <i>This is\titalicized text.</i>\t\n",
    "        <br>\t\n",
    "        <p align=center>This is a centered paragraph</p>\t\n",
    "        <a href=“http://www.ece.utexas.edu/~ryerraballi”>Visit my webpage!</a>\t\n",
    "    </body>\t\n",
    "</html>```\n",
    "\n",
    "Click [Sample.html](Sample.html) to render in a Browser\n"
   ]
  },
  {
   "cell_type": "markdown",
   "metadata": {},
   "source": [
    "Checkout [w3schools.com](http://www.w3schools.com) for extensive resources on [HTML](https://www.w3schools.com/html/html_intro.asp)"
   ]
  },
  {
   "cell_type": "markdown",
   "metadata": {},
   "source": [
    "## CSS\n",
    "Effectively deﬁnes how to display HTML elements. Let HTML define the \"content\" while CSS defines the \"style\".\n",
    "\n",
    "Here is a simple example where the style is _internal_ to the HTML page:\n",
    "\n",
    "```\n",
    "<html>\t\n",
    "\t \t <head>\t\n",
    "\t \t \t <style\ttype=“text/css”>\t\n",
    "\t \t \t \t hr\t{color:\tgreen}\t\n",
    "\t \t \t \t p\t{margin-left:\t20px}\t\n",
    "\t \t \t \t body\t{background-color:\tyellow}\t\n",
    "\t \t \t </style>\t\n",
    "\t \t </head>\t\n",
    "\t \t <body>\t…\t</body>\t\n",
    "\t </html>\n",
    "```\n",
    "As you can see the style section (inside the head tag) tells what features to apply to some of the HTML constructs. For example, horizontal lines (`hr`) must of color `green`\n",
    "\n",
    "Having the style external allows one to apply the style to all pages of a site, thereby creating a \"look-and-feel\":\n",
    "\n",
    "```\n",
    "<!DOCTYPE html>\n",
    "<html lang=\"en\">\n",
    "    <head>\n",
    "    <title>CSS Template</title>\n",
    "        <meta charset=\"utf-8\">\n",
    "        <meta name=\"viewport\" content=\"width=device-width, initial-scale=1\">\n",
    "        <link\trel=“stylesheet”\ttype=“text/css”\thref=“mystyle.css”\t/>\n",
    "    </head>\n",
    "    <body>\n",
    "\n",
    "        <div class=\"sidenav\">\n",
    "          <a href=\"#\">Link</a>\n",
    "          <a href=\"#\">Link</a>\n",
    "          <a href=\"#\">Link</a>\n",
    "        </div>\n",
    "\n",
    "        <div class=\"content\">\n",
    "          <h2>CSS Template</h2>\n",
    "          <p>A full-height, fixed sidenav and content.</p>\n",
    "        </div>\n",
    "\n",
    "    </body>\n",
    "</html>\n",
    "```\n",
    "\n",
    "__*mystyle.css*__:\n",
    "```\n",
    "* {\n",
    "  box-sizing: border-box;\n",
    "}\n",
    "\n",
    "body {\n",
    "  margin: 0;\n",
    "  font-family: Arial, Helvetica, sans-serif;\n",
    "}\n",
    "\n",
    "/* Style the side navigation */\n",
    ".sidenav {\n",
    "  height: 100%;\n",
    "  width: 200px;\n",
    "  position: fixed;\n",
    "  z-index: 1;\n",
    "  top: 0;\n",
    "  left: 0;\n",
    "  background-color: #111;\n",
    "  overflow-x: hidden;\n",
    "}\n",
    "\n",
    "\n",
    "/* Side navigation links */\n",
    ".sidenav a {\n",
    "  color: white;\n",
    "  padding: 16px;\n",
    "  text-decoration: none;\n",
    "  display: block;\n",
    "}\n",
    "\n",
    "/* Change color on hover */\n",
    ".sidenav a:hover {\n",
    "  background-color: #ddd;\n",
    "  color: black;\n",
    "}\n",
    "\n",
    "/* Style the content */\n",
    ".content {\n",
    "  margin-left: 200px;\n",
    "  padding-left: 20px;\n",
    "}\n",
    "```\n",
    "Click [SampleCSS.html](SampleCSS.html) to render in a Browser"
   ]
  },
  {
   "cell_type": "markdown",
   "metadata": {},
   "source": [
    "Checkout [w3schools.com](http://www.w3schools.com) for extensive resources on [CSS](https://www.w3schools.com/css/default.asp)"
   ]
  },
  {
   "cell_type": "markdown",
   "metadata": {},
   "source": [
    "## Javascript\n",
    "JavaScript was designed to add interactivity to HTML webpages \n",
    "Now we have content (HTML), style (CSS), and interaction (JavaScript) \n",
    "\n",
    "JavaScript embedded in an HTML page connects through interfaces \n",
    "called Document Object Models (DOMs). The DOM is a representation \n",
    "of an HTML document at runtime as a collection of \n",
    "Javascript methods and objects \n",
    "\n",
    "Here is a simple example:\n",
    "```\n",
    "<!DOCTYPE html>\n",
    "<html>\n",
    "    <head>\n",
    "        <script>\n",
    "            function myFunction() {\n",
    "                document.getElementById(\"demo\").innerHTML = \"Paragraph changed.\";\n",
    "            }\n",
    "        </script>\n",
    "    </head>\n",
    "    <body>\n",
    "        <h2>JavaScript in Head</h2>\n",
    "        <p id=\"demo\">A Paragraph.</p>\n",
    "        <button type=\"button\" onclick=\"myFunction()\">Try it</button>\n",
    "    </body>\n",
    "</html> \n",
    "```\n",
    "The javascript code is embedded in the body of the document. <br>\n",
    "Click [SampleJS.html](SampleJS.html) to render in a Browser"
   ]
  },
  {
   "cell_type": "markdown",
   "metadata": {},
   "source": [
    "Here is a more common way of separating the javascript from the html:\n",
    "\n",
    "```\n",
    "<!DOCTYPE html>\n",
    "<html>\n",
    "<body>\n",
    "\n",
    " <h2>External JavaScript</h2>\n",
    "\n",
    " <p id=\"demo\">A Paragraph.</p>\n",
    "\n",
    " <button type=\"button\" onclick=\"myFunction()\">Try it</button>\n",
    "\n",
    " <p>(myFunction is stored in an external file called \"myScript.js\")</p>\n",
    "\n",
    " <script src=\"myScript.js\"></script>\n",
    "\n",
    "</body>\n",
    "</html>\n",
    "```\n",
    "__*myScript.js*__:\n",
    "```\n",
    "function myFunction() {\n",
    "  document.getElementById(\"demo\").innerHTML = \"Paragraph changed.\";\n",
    "}\n",
    "```\n",
    "Click [SampleJSExt.html](SampleJSExt.html) to render in a Browser"
   ]
  },
  {
   "cell_type": "markdown",
   "metadata": {},
   "source": [
    "## HTTP\n",
    "Is a network Protocol used by Web Browsers (Client) to communicate with Web Servers. It is a \n",
    "simple request-response protocol layered over TCP/IP sockets.\n",
    "\n",
    "Here is a sample HTTP request:\n",
    "```\n",
    "GET\t/index.html\tHTTP/1.1\t\n",
    "Host:\twww.example.com\t\n",
    "User-Agent:\tMozilla/5.0\t\n",
    "Accept:\ttext/xml,application/xml,\tapplication/xhtml+xml,text/html*/*\t\n",
    "Accept-Language:\ten-us\t\n",
    "Accept-Charset:\tISO-8859-1,utf-8\t\n",
    "Connection:keep-alive\t\n",
    "<blank\tline>\n",
    "```\n",
    "\n",
    "The first line contains the `method`, the `URL`, and the `version number` \n",
    "\n",
    "`GET` method: _Read information from server, does not have any side effects to server state_ \n",
    "\n",
    "`POST` method: _Uploads data from browser (often form data), return information from \n",
    "the server; likely to have side effects; data is in the body of the request_"
   ]
  },
  {
   "cell_type": "markdown",
   "metadata": {},
   "source": [
    "Here is a sample HTTP response:\n",
    "```\n",
    "HTTP/1.1\t200\tOK\t\n",
    "Date:\tThu,\t24\tJul\t2008\t17:36:27\tGMT\t\n",
    "Server:\tApache-Coyote/1.1\t\n",
    "Content-Type:\ttext/html;charset=UTF-8\t\n",
    "Content-Length:\t1846\t\n",
    "<?xml\tversion\t=\t“1.0”\tencoding=“utf-8”?>\t\n",
    "<!DOCTYPE\thtml\tPUBLIC\t...\t>\t\n",
    "<html\t...\t>\t\n",
    "...\t\n",
    "</html>\n",
    "```\n",
    "\n",
    "__Line 1_: protocol version, status code, textual explanation "
   ]
  },
  {
   "cell_type": "markdown",
   "metadata": {},
   "source": [
    "## HTTPS\n",
    "Identical to HTTP, except request and response messages are  transmitted using SSL/TLS \n",
    "\n",
    "- HTTPS used automatically when URL begins with `https://` rather than `http://` \n",
    "- Request and response message are sent in an encrypted fashion between browser and server \n",
    "- Network sniffers cannot access private data (e.g., passwords and credit card numbers) \n",
    "- Certiﬁcate exchange lets browser identify the servers its communicating with (but does not help server identify the browser)"
   ]
  },
  {
   "cell_type": "markdown",
   "metadata": {},
   "source": [
    "## Server Side Scripting\n",
    "Note that all of html/css/javascript is executed on the Client (Web Browser). This limits what can be done to only what information is available on the client side. Say, we want to take some information that the user provides and store it on the server and retrieve it later. Or, we want to fetch some data (from a database) based on what the user asks. We need the ability to send information back to the server and for the server to be able to \"process\" it and send a response back. This processing needs some code to be run. There are many languages for server-side scripting are:\n",
    "- PHP\n",
    "- ASP\n",
    "- python\n",
    "- perl\n",
    "- java\n",
    "- JSP\n",
    "- C\n",
    "\n",
    "We will focus on `python`. But first we need a Web Server!!!"
   ]
  },
  {
   "cell_type": "markdown",
   "metadata": {},
   "source": [
    "# HTTP Server\n",
    "The most popular Web Server is use today is the Apache HTTP Server.\n",
    "<img src=\"WebServers.png\" alt=\"WebServers\" width=\"400\" height=20/>\n",
    "Common deployments of the Apache Server go under the acronyn `\\[X\\]AMP` where, \n",
    "- X can be L (Linux), M (Mac OSX) or W (Windows) OS\n",
    "- A stands for Apache\n",
    "- M stands for MySQL\n",
    "- P stands for PHP\n",
    "\n",
    "If you want to play around with a fully functional web server deployment, I'd suggest installing these on your PC: [WAMP](http://www.wampserver.com/en/), [LAMP](https://bitnami.com/stack/lamp/installer) or [MAMP](https://www.mamp.info/en/). There is even a [XAMPP](https://www.apachefriends.org/index.html) which is a very popular packaging with many add-ons. (__See Task 3__)\n"
   ]
  },
  {
   "cell_type": "markdown",
   "metadata": {},
   "source": [
    "## PHP \n",
    "By far the most used server side scripting language is PHP (Hypertext Preprocessor):\n",
    "<img src=\"ServerSideScripting.png\" alt=\"ServerSideScripting\" width=\"400\" height=20/>\n",
    "So, if you are planning on learning just one technology on the server side then PHP is it. We will use python in this class simply because we want to leverage what we already started learning and. Note that Google App Engine supports, java, python and php."
   ]
  },
  {
   "cell_type": "markdown",
   "metadata": {},
   "source": [
    "Here I will access the Apache Webserver I am running on my Local Windows machine. I installed the WAMPServer suite mentioned above<br>\n",
    "[http://localhost/APAD/SamplePHP.html](http://localhost/APAD/SamplePHP.html)"
   ]
  },
  {
   "cell_type": "markdown",
   "metadata": {},
   "source": [
    "This simple example has two components:\n",
    "__SamplePHP.html__:\n",
    "```\n",
    "<html>\n",
    " <body>\n",
    "\n",
    "  <form action=\"welcome.php\" method=\"post\">\n",
    "    Name: <input type=\"text\" name=\"name\"><br>\n",
    "    E-mail: <input type=\"text\" name=\"email\"><br>\n",
    "    <input type=\"submit\">\n",
    "  </form>\n",
    "\n",
    " </body>\n",
    "</html> \n",
    "```\n",
    "and __welcome.php__:\n",
    "```\n",
    "<html>\n",
    " <body>\n",
    "\n",
    "   Welcome <?php echo $_POST[\"name\"]; ?><br>\n",
    "   Your email address is: <?php echo $_POST[\"email\"]; ?>\n",
    "\n",
    " </body>\n",
    "</html>\n",
    "```"
   ]
  },
  {
   "cell_type": "markdown",
   "metadata": {},
   "source": [
    "The first file (__SamplePHP.html__) has `form` element that tells the Browser to send a `POST` (as opposed to `GET`) when the `Submit` button is pressed. Upon receiving this request, the server will run (`action`) the __welcome.php__ script.\n",
    "\n",
    "The script simply extracts the information passed in the POST using the `$_POST[attr]` syntax. The `attr` refers to the name of an input element (\"name\" or \"email\" here) inside the form. "
   ]
  },
  {
   "cell_type": "code",
   "execution_count": null,
   "metadata": {},
   "outputs": [],
   "source": []
  }
 ],
 "metadata": {
  "kernelspec": {
   "display_name": "Python 3",
   "language": "python",
   "name": "python3"
  },
  "language_info": {
   "codemirror_mode": {
    "name": "ipython",
    "version": 3
   },
   "file_extension": ".py",
   "mimetype": "text/x-python",
   "name": "python",
   "nbconvert_exporter": "python",
   "pygments_lexer": "ipython3",
   "version": "3.7.2"
  }
 },
 "nbformat": 4,
 "nbformat_minor": 2
}
