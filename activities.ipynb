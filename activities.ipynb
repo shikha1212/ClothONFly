{
 "cells": [
  {
   "cell_type": "code",
   "execution_count": 1,
   "metadata": {},
   "outputs": [],
   "source": [
    "# The activity APIs for APAD Project -- Cloth On Fly\n",
    "\n",
    "# Author: Tianyi (Kelly) Zhang\n",
    "#         Shikha Singh\n",
    "\n",
    "# Creation Date: 07/21/2019\n",
    "\n",
    "# Major: MSITM"
   ]
  },
  {
   "cell_type": "code",
   "execution_count": 3,
   "metadata": {},
   "outputs": [
    {
     "name": "stdout",
     "output_type": "stream",
     "text": [
      "importing Jupyter notebook from buyer.ipynb\n"
     ]
    }
   ],
   "source": [
    "import Ipynb_importer\n",
    "import utils\n",
    "from admin import Admin\n",
    "#from seller import Seller\n",
    "from buyer import Buyer\n",
    "import Database"
   ]
  },
  {
   "cell_type": "code",
   "execution_count": 1,
   "metadata": {},
   "outputs": [],
   "source": [
    "def register(user_role) -> bool:\n",
    "    user_name = utils.TEST_ADMIN_NAME\n",
    "    password = utils.TEST_PASSWORD\n",
    "    first_name = utils.TEST_FIRST_NAME\n",
    "    last_name = utils.TEST_LAST_NAME\n",
    "    email = utils.TEST_EMAIL\n",
    "    address = utils.TEST_ADDRESS\n",
    "    phone_num = utils.TEST_PHONE_NUM\n",
    "    id_num = utils.TEST_ID_NUM\n",
    "\n",
    "    if user_role == utils.ADMIN_ROLE_NAME:\n",
    "        new_admin_user = Admin(user_name, password, first_name,\n",
    "                               last_name, email, address, phone_num, id_num)\n",
    "        write_user_into_database(user_role, new_admin_user)\n",
    "        \n",
    "    elif user_role == utils.SELLER_ROLE_NAME:\n",
    "        new_seller_user = Seller(user_name, password, first_name,\n",
    "                               last_name, email, address, phone_num, id_num)\n",
    "#         move_seller_to_pending(user_role, new_seller_user)\n",
    "        Admin.move_seller_to_pending(new_seller_user)\n",
    "        print(\"Your registration is pending for authorization, thank you for your patience.\")\n",
    "        \n",
    "    elif user_role == utils.BUYER_ROLE_NAME:\n",
    "        new_buyer_user = Buyer(user_name, password, first_name,\n",
    "                                 last_name, email, address, phone_num, id_num)\n",
    "        write_user_into_database(user_role, new_buyer_user)\n",
    "        \n",
    "    else:\n",
    "        print(\"Unknown role\")\n",
    "        return False\n",
    "\n",
    "    return True"
   ]
  },
  {
   "cell_type": "code",
   "execution_count": null,
   "metadata": {},
   "outputs": [],
   "source": [
    "def login(user_name, password):\n",
    "    user_name = utils.TEST_ADMIN_NAME\n",
    "    password = utils.TEST_PASSWORD\n",
    "    cur_result = cursor.execute('''SELECT * FROM Users where User_Name = ? AND Password = ? ''',(user_name, password))\n",
    "        if len(cur.fetchall()) != 0:\n",
    "            print(\"LogIn Succeed\")\n",
    "            return True\n",
    "        else:\n",
    "            print(\"Unable to LogIn\")\n",
    "            return False"
   ]
  },
  {
   "cell_type": "code",
   "execution_count": null,
   "metadata": {},
   "outputs": [],
   "source": [
    "def write_user_into_database(user_role, user):\n",
    "    cursor.execute(\n",
    "        '''Insert into Users(User_Name, Password, User_Type, First_Name, Last_Name, Email, Address, Phone_Num, User_ID) values(?,?,?,?,?,?,?,?,?)''',\n",
    "        (user.user_name, user.password, user_role, user.first_name, user.last_name, user.email, user.address, user.phone_num, user.id_num))\n",
    "    db.commit()"
   ]
  }
 ],
 "metadata": {
  "kernelspec": {
   "display_name": "Python 3",
   "language": "python",
   "name": "python3"
  },
  "language_info": {
   "codemirror_mode": {
    "name": "ipython",
    "version": 3
   },
   "file_extension": ".py",
   "mimetype": "text/x-python",
   "name": "python",
   "nbconvert_exporter": "python",
   "pygments_lexer": "ipython3",
   "version": "3.7.3"
  }
 },
 "nbformat": 4,
 "nbformat_minor": 2
}
