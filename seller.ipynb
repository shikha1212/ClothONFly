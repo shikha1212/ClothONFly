{
 "cells": [
  {
   "cell_type": "code",
   "execution_count": 1,
   "metadata": {},
   "outputs": [],
   "source": [
    "# Role Seller for APAD Project -- Cloth On Fly\n",
    "\n",
    "# Author: Tianyi (Kelly) Zhang\n",
    "#         Shikha Singh\n",
    "\n",
    "# Creation Date: 07/21/2019\n",
    "\n",
    "# Major: MSITM"
   ]
  },
  {
   "cell_type": "code",
   "execution_count": null,
   "metadata": {},
   "outputs": [],
   "source": [
    "import Ipynb_importer\n",
    "import sqlite3\n",
    "from datetime import date\n",
    "from datetime import timedelta\n",
    "import Database\n",
    "import utils"
   ]
  },
  {
   "cell_type": "code",
   "execution_count": null,
   "metadata": {},
   "outputs": [],
   "source": [
    "class Seller:\n",
    "\n",
    "    def __init__(self, user_name, password, first_name, last_name, email, address, phone_num, id_num):\n",
    "        self.user_name = user_name\n",
    "        self.password = password\n",
    "        self.first_name = first_name\n",
    "        self.last_name = last_name\n",
    "        self.email = email\n",
    "        self.address = address\n",
    "        self.phone_num = phone_num\n",
    "        self.id_num = id_num"
   ]
  }
 ],
 "metadata": {
  "kernelspec": {
   "display_name": "Python 3",
   "language": "python",
   "name": "python3"
  },
  "language_info": {
   "codemirror_mode": {
    "name": "ipython",
    "version": 3
   },
   "file_extension": ".py",
   "mimetype": "text/x-python",
   "name": "python",
   "nbconvert_exporter": "python",
   "pygments_lexer": "ipython3",
   "version": "3.7.3"
  }
 },
 "nbformat": 4,
 "nbformat_minor": 2
}
