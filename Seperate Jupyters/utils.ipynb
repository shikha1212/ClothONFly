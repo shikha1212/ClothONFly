{
 "cells": [
  {
   "cell_type": "code",
   "execution_count": 1,
   "metadata": {},
   "outputs": [],
   "source": [
    "# The utility functions for APAD Project -- Cloth On Fly\n",
    "\n",
    "# Author: Tianyi (Kelly) Zhang\n",
    "#         Shikha Singh\n",
    "\n",
    "# Creation Date: 07/21/2019\n",
    "\n",
    "# Major: MSITM"
   ]
  },
  {
   "cell_type": "code",
   "execution_count": 2,
   "metadata": {},
   "outputs": [],
   "source": [
    "from uuid import uuid4"
   ]
  },
  {
   "cell_type": "code",
   "execution_count": 3,
   "metadata": {},
   "outputs": [],
   "source": [
    "ADMIN_ROLE_NAME = 'Admin'\n",
    "BUYER_ROLE_NAME = 'Renter'\n",
    "SELLER_ROLE_NAME = \"Seller\"\n",
    "\n",
    "ORDER_RECEIVED = \"Order Received(Shipment Pending)\"\n",
    "ORDER_RETURN_INIT = \"Return Initiated\"\n",
    "\n",
    "TEST_ADMIN_NAME = 'KellyZhang'\n",
    "TEST_PASSWORD = '123'\n",
    "TEST_FIRST_NAME = 'Kelly'\n",
    "TEST_LAST_NAME = 'Zhang'\n",
    "TEST_EMAIL = '123abc@def.com'\n",
    "TEST_ADDRESS = '123 FASDF, AUSTIN, TX 78731'\n",
    "TEST_PHONE_NUM = '123-456-7890'\n",
    "TEST_ID_NUM = '70e52cb3-47b5-4aa5-a0cd-827766845385'"
   ]
  },
  {
   "cell_type": "code",
   "execution_count": null,
   "metadata": {},
   "outputs": [],
   "source": [
    "def generate_id_for_role() -> str:\n",
    "    print(\"Generating UUID for role!!!!!\")\n",
    "    return str(uuid4())"
   ]
  }
 ],
 "metadata": {
  "kernelspec": {
   "display_name": "Python 3",
   "language": "python",
   "name": "python3"
  },
  "language_info": {
   "codemirror_mode": {
    "name": "ipython",
    "version": 3
   },
   "file_extension": ".py",
   "mimetype": "text/x-python",
   "name": "python",
   "nbconvert_exporter": "python",
   "pygments_lexer": "ipython3",
   "version": "3.7.3"
  }
 },
 "nbformat": 4,
 "nbformat_minor": 2
}
