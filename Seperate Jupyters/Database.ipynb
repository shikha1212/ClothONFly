{
 "cells": [
  {
   "cell_type": "code",
   "execution_count": 2,
   "metadata": {},
   "outputs": [],
   "source": [
    "import sqlite3"
   ]
  },
  {
   "cell_type": "code",
   "execution_count": 4,
   "metadata": {},
   "outputs": [
    {
     "data": {
      "text/plain": [
       "<sqlite3.Cursor at 0x10eb4f810>"
      ]
     },
     "execution_count": 4,
     "metadata": {},
     "output_type": "execute_result"
    }
   ],
   "source": [
    "db = sqlite3.connect(\"ClothONFly.db\")\n",
    "cursor = db.cursor()"
   ]
  },
  {
   "cell_type": "code",
   "execution_count": 1,
   "metadata": {},
   "outputs": [],
   "source": [
    "# cursor.execute('''\n",
    "#               CREATE TABLE Users(User_ID INTEGER PRIMARY KEY AutoIncrement, User_Name Text NOT NULL UNIQUE, Password Text,\n",
    "#               User_Type Text Not Null check(User_Type = \"Admin\" or User_Type = \"Buyer\" or User_Type = \"Seller\"), First_Name TEXT NOT NULL,\n",
    "#               Last_Name TEXT NOT NULL, Email TEXT Not NUll, Address Text Not NUll, Phone_Num INTEGER Not Null)\n",
    "#             ''')\n",
    "\n",
    "# cursor.execute('''\n",
    "#               CREATE TABLE Inventory_Items(Item_ID INTEGER PRIMARY KEY AutoIncrement, Brand_Name TEXT NOT NULL,\n",
    "#               Cloth_Type TEXT NOT NULL, Size TEXT NOT NULL, Gender TEXT NOT NULL, Original_Price REAL NOT NULL,\n",
    "#               Rental_Price REAL NOT NULL, Available_From DATE, Owner_ID INTEGER, Location TEXT NOT NULL, Cloth_Image BLOB NOT NULL,\n",
    "#               Foreign Key(Owner_ID) References Users(User_ID))\n",
    "#             ''')\n",
    "\n",
    "# cursor.execute('''\n",
    "#               CREATE TABLE Orders (Order_ID INTEGER PRIMARY KEY AutoIncrement, User_ID INTEGER NOT NULL, Item_ID INTEGER Not Null,\n",
    "#               Delivery_Date Date Not Null, Return_Date Date Not Null, Shipping_Address Text Not Null,\n",
    "#               Order_Status Text Not Null check(Order_Status = \"Order Received(Shipment Pending)\" or Order_Status = \"Order Shipped\" or Order_Status = \"Return Initiated\" or Order_Status = \"Return Received(Deposit Refunded)\" or Order_Status = \"Return Not Received(Deposit Withheld)\"),\n",
    "#               Shipping_Date Date, FOREIGN KEY(User_ID) REFERENCES Users(User_ID), FOREIGN KEY(Item_ID) References Inventory_Item(Item_ID))\n",
    "#           ''')"
   ]
  },
  {
   "cell_type": "code",
   "execution_count": 2,
   "metadata": {},
   "outputs": [],
   "source": [
    "#cursor.execute('''drop table Users''')\n",
    "#cursor.execute('''drop table Inventory_Items''')\n",
    "#cursor.execute('''drop table Orders''')"
   ]
  },
  {
   "cell_type": "code",
   "execution_count": null,
   "metadata": {},
   "outputs": [],
   "source": [
    "# db.commit()"
   ]
  }
 ],
 "metadata": {
  "kernelspec": {
   "display_name": "Python 3",
   "language": "python",
   "name": "python3"
  },
  "language_info": {
   "codemirror_mode": {
    "name": "ipython",
    "version": 3
   },
   "file_extension": ".py",
   "mimetype": "text/x-python",
   "name": "python",
   "nbconvert_exporter": "python",
   "pygments_lexer": "ipython3",
   "version": "3.7.3"
  }
 },
 "nbformat": 4,
 "nbformat_minor": 2
}
