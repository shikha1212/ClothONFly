{
 "cells": [
  {
   "cell_type": "code",
   "execution_count": null,
   "metadata": {},
   "outputs": [],
   "source": [
    "# Role Admin for APAD Project -- Cloth On Fly\n",
    "\n",
    "# Author: Tianyi (Kelly) Zhang\n",
    "#         Shikha Singh\n",
    "\n",
    "# Creation Date: 07/21/2019\n",
    "\n",
    "# Major: MSITM"
   ]
  },
  {
   "cell_type": "code",
   "execution_count": null,
   "metadata": {},
   "outputs": [],
   "source": [
    "import Ipynb_importer\n",
    "from random import randint\n",
    "import Database\n",
    "import utils\n",
    "from activities import write_user_into_database"
   ]
  },
  {
   "cell_type": "code",
   "execution_count": null,
   "metadata": {},
   "outputs": [],
   "source": [
    "class Admin:\n",
    "\n",
    "    def __init__(self, user_name, password, first_name, last_name, email, address, phone_num, id_num):\n",
    "        self.user_name = user_name\n",
    "        self.password = password\n",
    "        self.first_name = first_name\n",
    "        self.last_name = last_name\n",
    "        self.email = email\n",
    "        self.address = address\n",
    "        self.phone_num = phone_num\n",
    "        self.id_num = id_num\n",
    "        self.pending_seller_list = list()\n",
    "        \n",
    "    @staticmethod    \n",
    "    def move_seller_to_pending(seller) -> bool:\n",
    "        self.pending_seller_list.append(seller)\n",
    "        return True\n",
    "    \n",
    "    def authorize_sellers() -> bool:\n",
    "        print(\"Hi Admin! Please check and authorize the following sellers for registration:\")\n",
    "        for seller in self.pending_seller_list:\n",
    "            # Notify the current admin about the seller's info\n",
    "            print(\"Seller basic: \")\n",
    "            decision = input('Do you want to grant this seller permission to the system (Y/N)? ')\n",
    "            \n",
    "            if decision.lower() is 'y':\n",
    "                write_user_into_database(utils.SELLER_ROLE_NAME, seller)\n",
    "            else:\n",
    "                print(\"Removing the seller...\")\n",
    "                self.pending_seller_list.remove(seller)\n",
    "        return True\n",
    "    \n",
    "    # Remove a specific item from the inventory table\n",
    "    def remove_item(self, item_id_num) -> bool:\n",
    "        print(\"Removing item (item_id_num:  \" + item_id_num + \")\")\n",
    "        return False\n",
    "\n",
    "    # Add a specific item from the inventory table\n",
    "    def add_item(self, item_id_num) -> bool:\n",
    "        print(\"Adding item (item_id_num:  \" + item_id_num + \")\")\n",
    "        return False\n",
    "\n",
    "    # Edit a specific item from the inventory table\n",
    "    def edit_item(self, item_id_num) -> bool:\n",
    "        print(\"Adding item (item_id_num:  \" + item_id_num + \")\")\n",
    "        return False\n",
    "    \n",
    "    # Remove a seller from the seller table\n",
    "    def remove_seller(self, seller_id_num) -> bool:\n",
    "        cursor.execute('''DELETE FROM Users \n",
    "                          WHERE User_ID = ?''',(seller_id_num)\n",
    "        return True"
   ]
  }
 ],
 "metadata": {
  "kernelspec": {
   "display_name": "Python 3",
   "language": "python",
   "name": "python3"
  },
  "language_info": {
   "codemirror_mode": {
    "name": "ipython",
    "version": 3
   },
   "file_extension": ".py",
   "mimetype": "text/x-python",
   "name": "python",
   "nbconvert_exporter": "python",
   "pygments_lexer": "ipython3",
   "version": "3.7.3"
  }
 },
 "nbformat": 4,
 "nbformat_minor": 2
}
